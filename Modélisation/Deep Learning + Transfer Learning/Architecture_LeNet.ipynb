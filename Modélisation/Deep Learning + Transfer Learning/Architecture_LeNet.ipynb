{
  "cells": [
    {
      "cell_type": "code",
      "source": [
        "from google.colab import drive\n",
        "drive.mount('/content/drive', force_remount=True)"
      ],
      "metadata": {
        "colab": {
          "base_uri": "https://localhost:8080/"
        },
        "id": "0Jns30pZM58m",
        "outputId": "61bfc618-c8a5-4c74-c679-674f8641da11"
      },
      "id": "0Jns30pZM58m",
      "execution_count": null,
      "outputs": [
        {
          "output_type": "stream",
          "name": "stdout",
          "text": [
            "Mounted at /content/drive\n"
          ]
        }
      ]
    },
    {
      "cell_type": "code",
      "execution_count": null,
      "id": "d90e6fff",
      "metadata": {
        "id": "d90e6fff"
      },
      "outputs": [],
      "source": [
        "import numpy as np\n",
        "import pathlib"
      ]
    },
    {
      "cell_type": "code",
      "execution_count": null,
      "id": "5f26a34c",
      "metadata": {
        "id": "5f26a34c"
      },
      "outputs": [],
      "source": [
        "images = pathlib.Path('/content/drive/MyDrive/Kaggle/DataScientest_Blood_Cells_project/Mendeley_Data_Barcelona')"
      ]
    },
    {
      "cell_type": "code",
      "execution_count": null,
      "id": "4abb9e7b",
      "metadata": {
        "id": "4abb9e7b",
        "outputId": "91d0c086-d3b8-4289-be14-af949d44534e"
      },
      "outputs": [
        {
          "name": "stdout",
          "output_type": "stream",
          "text": [
            "Found 17092 files belonging to 8 classes.\n",
            "Using 13674 files for training.\n"
          ]
        }
      ],
      "source": [
        "from tensorflow.keras.preprocessing import image_dataset_from_directory\n",
        "\n",
        "train_data = image_dataset_from_directory(images,\n",
        "                                          validation_split=0.2,\n",
        "                                          subset='training',\n",
        "                                         seed=123,\n",
        "                                         image_size=(360,360))"
      ]
    },
    {
      "cell_type": "code",
      "execution_count": null,
      "id": "5723044d",
      "metadata": {
        "id": "5723044d",
        "outputId": "db24f0c0-3edd-4584-9516-4bfe880aa5d4"
      },
      "outputs": [
        {
          "name": "stdout",
          "output_type": "stream",
          "text": [
            "(32, 360, 360, 3)\n",
            "(32,)\n"
          ]
        }
      ],
      "source": [
        "for image, labels in train_data:\n",
        "    print(image.shape)\n",
        "    print(labels.shape)\n",
        "    break"
      ]
    },
    {
      "cell_type": "code",
      "execution_count": null,
      "id": "27e10de2",
      "metadata": {
        "id": "27e10de2",
        "outputId": "07d4c8c4-6530-4942-d779-a5126a1b7a34"
      },
      "outputs": [
        {
          "name": "stdout",
          "output_type": "stream",
          "text": [
            "['basophil', 'eosinophil', 'erythroblast', 'ig', 'lymphocyte', 'monocyte', 'neutrophil', 'platelet']\n"
          ]
        }
      ],
      "source": [
        "print(train_data.class_names)"
      ]
    },
    {
      "cell_type": "code",
      "execution_count": null,
      "id": "58e2257e",
      "metadata": {
        "id": "58e2257e",
        "outputId": "5ec81cc8-aa6a-4cdc-de86-d72055cb19af"
      },
      "outputs": [
        {
          "name": "stdout",
          "output_type": "stream",
          "text": [
            "Found 17092 files belonging to 8 classes.\n",
            "Using 3418 files for validation.\n"
          ]
        }
      ],
      "source": [
        "val_data= image_dataset_from_directory(images,\n",
        "                                          validation_split=0.2,\n",
        "                                          subset='validation',\n",
        "                                         seed=123,\n",
        "                                         image_size=(360,360))"
      ]
    },
    {
      "cell_type": "code",
      "execution_count": null,
      "id": "075051a7",
      "metadata": {
        "id": "075051a7"
      },
      "outputs": [],
      "source": [
        "import tensorflow as tf\n",
        "\n",
        "def normalizer(image,label):\n",
        "    image = tf.cast(image/255, tf.float32)\n",
        "    return image,label\n",
        "\n",
        "train_data_norm = train_data.map(normalizer)\n",
        "val_data_norm =valtrain_data.class_names_data.map(normalizer)"
      ]
    },
    {
      "cell_type": "code",
      "execution_count": null,
      "id": "65b01821",
      "metadata": {
        "id": "65b01821",
        "outputId": "facde189-b45b-47f0-dd6a-1ed27ddb71c5"
      },
      "outputs": [
        {
          "name": "stdout",
          "output_type": "stream",
          "text": [
            "Min :0.006, Max: 1.000\n"
          ]
        }
      ],
      "source": [
        "image, label = next(iter(train_data_norm))\n",
        "img1=image[0]\n",
        "print('Min :%0.3f, Max: %0.3f'%(np.min(img1),np.max(img1)))"
      ]
    },
    {
      "cell_type": "code",
      "execution_count": null,
      "id": "44158367",
      "metadata": {
        "id": "44158367"
      },
      "outputs": [],
      "source": [
        "from tensorflow.keras.models import Sequential, Model\n",
        "from tensorflow.keras.layers import Dense, Activation, Input, Dropout, Flatten, Conv2D, MaxPooling2D\n",
        "from tensorflow.keras.utils import to_categorical\n",
        "\n",
        "\n",
        "model = Sequential()\n",
        "\n",
        "model.add(Conv2D(filters=32,\n",
        "                kernel_size=(3,3),\n",
        "                padding='valid',\n",
        "                activation='relu',\n",
        "                input_shape=(360,360,3)))\n",
        "\n",
        "model.add(MaxPooling2D(pool_size=(2,2), strides=2, padding='valid'))\n",
        "\n",
        "model.add(Dropout(rate=0.5))\n",
        "\n",
        "model.add(Flatten())\n",
        "\n",
        "model.add(Dense(units=8, activation='softmax'))"
      ]
    },
    {
      "cell_type": "code",
      "execution_count": null,
      "id": "6c54d9fa",
      "metadata": {
        "id": "6c54d9fa",
        "outputId": "869e61c0-8c02-49be-f265-927383d868ff"
      },
      "outputs": [
        {
          "name": "stdout",
          "output_type": "stream",
          "text": [
            "Model: \"sequential\"\n",
            "_________________________________________________________________\n",
            "Layer (type)                 Output Shape              Param #   \n",
            "=================================================================\n",
            "conv2d (Conv2D)              (None, 358, 358, 32)      896       \n",
            "_________________________________________________________________\n",
            "max_pooling2d (MaxPooling2D) (None, 179, 179, 32)      0         \n",
            "_________________________________________________________________\n",
            "dropout (Dropout)            (None, 179, 179, 32)      0         \n",
            "_________________________________________________________________\n",
            "flatten (Flatten)            (None, 1025312)           0         \n",
            "_________________________________________________________________\n",
            "dense (Dense)                (None, 8)                 8202504   \n",
            "=================================================================\n",
            "Total params: 8,203,400\n",
            "Trainable params: 8,203,400\n",
            "Non-trainable params: 0\n",
            "_________________________________________________________________\n"
          ]
        }
      ],
      "source": [
        "model.compile(loss='sparse_categorical_crossentropy', optimizer='adam', metrics=['accuracy'])\n",
        "\n",
        "model.summary()"
      ]
    },
    {
      "cell_type": "code",
      "execution_count": null,
      "id": "a2f8e1dc",
      "metadata": {
        "id": "a2f8e1dc",
        "outputId": "29ec7eec-d68e-4fdd-d4da-10a1b7727e5c"
      },
      "outputs": [
        {
          "name": "stdout",
          "output_type": "stream",
          "text": [
            "Epoch 1/5\n",
            "428/428 [==============================] - 292s 682ms/step - loss: 3.1348 - accuracy: 0.6651 - val_loss: 87.2569 - val_accuracy: 0.7215\n",
            "Epoch 2/5\n",
            "428/428 [==============================] - 288s 672ms/step - loss: 0.4360 - accuracy: 0.8563 - val_loss: 129.4221 - val_accuracy: 0.7083\n",
            "Epoch 3/5\n",
            "428/428 [==============================] - 290s 676ms/step - loss: 0.3163 - accuracy: 0.8956 - val_loss: 176.4043 - val_accuracy: 0.6755\n",
            "Epoch 4/5\n",
            "428/428 [==============================] - 290s 676ms/step - loss: 0.2385 - accuracy: 0.9231 - val_loss: 225.2442 - val_accuracy: 0.6659\n",
            "Epoch 5/5\n",
            "428/428 [==============================] - 294s 687ms/step - loss: 0.1894 - accuracy: 0.9390 - val_loss: 224.0416 - val_accuracy: 0.7156\n"
          ]
        }
      ],
      "source": [
        "history=model.fit(train_data_norm,\n",
        "                  validation_data= val_data,\n",
        "                  epochs=5)"
      ]
    },
    {
      "cell_type": "code",
      "execution_count": null,
      "id": "65058028",
      "metadata": {
        "id": "65058028",
        "outputId": "b4493e62-2fa2-4550-da33-f1a771235dd6"
      },
      "outputs": [
        {
          "ename": "ValueError",
          "evalue": "x and y must have same first dimension, but have shapes (20,) and (5,)",
          "output_type": "error",
          "traceback": [
            "\u001b[0;31m---------------------------------------------------------------------------\u001b[0m",
            "\u001b[0;31mValueError\u001b[0m                                Traceback (most recent call last)",
            "\u001b[0;32m<ipython-input-11-79f535dc2031>\u001b[0m in \u001b[0;36m<module>\u001b[0;34m\u001b[0m\n\u001b[1;32m      4\u001b[0m \u001b[0;32mimport\u001b[0m \u001b[0mmatplotlib\u001b[0m\u001b[0;34m.\u001b[0m\u001b[0mpyplot\u001b[0m \u001b[0;32mas\u001b[0m \u001b[0mplt\u001b[0m\u001b[0;34m\u001b[0m\u001b[0;34m\u001b[0m\u001b[0m\n\u001b[1;32m      5\u001b[0m \u001b[0;34m\u001b[0m\u001b[0m\n\u001b[0;32m----> 6\u001b[0;31m \u001b[0mplt\u001b[0m\u001b[0;34m.\u001b[0m\u001b[0mplot\u001b[0m\u001b[0;34m(\u001b[0m\u001b[0mnp\u001b[0m\u001b[0;34m.\u001b[0m\u001b[0marange\u001b[0m\u001b[0;34m(\u001b[0m\u001b[0;36m1\u001b[0m\u001b[0;34m,\u001b[0m\u001b[0;36m21\u001b[0m\u001b[0;34m,\u001b[0m\u001b[0;36m1\u001b[0m\u001b[0;34m)\u001b[0m\u001b[0;34m,\u001b[0m \u001b[0mtrain_acc\u001b[0m\u001b[0;34m,\u001b[0m \u001b[0mcolor\u001b[0m\u001b[0;34m=\u001b[0m\u001b[0;34m'orange'\u001b[0m\u001b[0;34m,\u001b[0m \u001b[0mlabel\u001b[0m\u001b[0;34m=\u001b[0m\u001b[0;34m'Training accuracy'\u001b[0m\u001b[0;34m)\u001b[0m\u001b[0;34m\u001b[0m\u001b[0;34m\u001b[0m\u001b[0m\n\u001b[0m\u001b[1;32m      7\u001b[0m \u001b[0mplt\u001b[0m\u001b[0;34m.\u001b[0m\u001b[0mplot\u001b[0m\u001b[0;34m(\u001b[0m\u001b[0mnp\u001b[0m\u001b[0;34m.\u001b[0m\u001b[0marange\u001b[0m\u001b[0;34m(\u001b[0m\u001b[0;36m1\u001b[0m\u001b[0;34m,\u001b[0m\u001b[0;36m21\u001b[0m\u001b[0;34m,\u001b[0m\u001b[0;36m1\u001b[0m\u001b[0;34m)\u001b[0m\u001b[0;34m,\u001b[0m \u001b[0mval_acc\u001b[0m\u001b[0;34m,\u001b[0m \u001b[0mcolor\u001b[0m\u001b[0;34m=\u001b[0m\u001b[0;34m'green'\u001b[0m\u001b[0;34m,\u001b[0m \u001b[0mlinestyle\u001b[0m\u001b[0;34m=\u001b[0m\u001b[0;34m':'\u001b[0m\u001b[0;34m,\u001b[0m \u001b[0mlw\u001b[0m\u001b[0;34m=\u001b[0m\u001b[0;36m3\u001b[0m\u001b[0;34m)\u001b[0m\u001b[0;34m\u001b[0m\u001b[0;34m\u001b[0m\u001b[0m\n\u001b[1;32m      8\u001b[0m \u001b[0mplt\u001b[0m\u001b[0;34m.\u001b[0m\u001b[0mxlabel\u001b[0m\u001b[0;34m(\u001b[0m\u001b[0;34m'Epochs'\u001b[0m\u001b[0;34m)\u001b[0m\u001b[0;34m\u001b[0m\u001b[0;34m\u001b[0m\u001b[0m\n",
            "\u001b[0;32m~/anaconda3/envs/gpu2/lib/python3.6/site-packages/matplotlib/pyplot.py\u001b[0m in \u001b[0;36mplot\u001b[0;34m(scalex, scaley, data, *args, **kwargs)\u001b[0m\n\u001b[1;32m   2840\u001b[0m     return gca().plot(\n\u001b[1;32m   2841\u001b[0m         \u001b[0;34m*\u001b[0m\u001b[0margs\u001b[0m\u001b[0;34m,\u001b[0m \u001b[0mscalex\u001b[0m\u001b[0;34m=\u001b[0m\u001b[0mscalex\u001b[0m\u001b[0;34m,\u001b[0m \u001b[0mscaley\u001b[0m\u001b[0;34m=\u001b[0m\u001b[0mscaley\u001b[0m\u001b[0;34m,\u001b[0m\u001b[0;34m\u001b[0m\u001b[0;34m\u001b[0m\u001b[0m\n\u001b[0;32m-> 2842\u001b[0;31m         **({\"data\": data} if data is not None else {}), **kwargs)\n\u001b[0m\u001b[1;32m   2843\u001b[0m \u001b[0;34m\u001b[0m\u001b[0m\n\u001b[1;32m   2844\u001b[0m \u001b[0;34m\u001b[0m\u001b[0m\n",
            "\u001b[0;32m~/anaconda3/envs/gpu2/lib/python3.6/site-packages/matplotlib/axes/_axes.py\u001b[0m in \u001b[0;36mplot\u001b[0;34m(self, scalex, scaley, data, *args, **kwargs)\u001b[0m\n\u001b[1;32m   1741\u001b[0m         \"\"\"\n\u001b[1;32m   1742\u001b[0m         \u001b[0mkwargs\u001b[0m \u001b[0;34m=\u001b[0m \u001b[0mcbook\u001b[0m\u001b[0;34m.\u001b[0m\u001b[0mnormalize_kwargs\u001b[0m\u001b[0;34m(\u001b[0m\u001b[0mkwargs\u001b[0m\u001b[0;34m,\u001b[0m \u001b[0mmlines\u001b[0m\u001b[0;34m.\u001b[0m\u001b[0mLine2D\u001b[0m\u001b[0;34m)\u001b[0m\u001b[0;34m\u001b[0m\u001b[0;34m\u001b[0m\u001b[0m\n\u001b[0;32m-> 1743\u001b[0;31m         \u001b[0mlines\u001b[0m \u001b[0;34m=\u001b[0m \u001b[0;34m[\u001b[0m\u001b[0;34m*\u001b[0m\u001b[0mself\u001b[0m\u001b[0;34m.\u001b[0m\u001b[0m_get_lines\u001b[0m\u001b[0;34m(\u001b[0m\u001b[0;34m*\u001b[0m\u001b[0margs\u001b[0m\u001b[0;34m,\u001b[0m \u001b[0mdata\u001b[0m\u001b[0;34m=\u001b[0m\u001b[0mdata\u001b[0m\u001b[0;34m,\u001b[0m \u001b[0;34m**\u001b[0m\u001b[0mkwargs\u001b[0m\u001b[0;34m)\u001b[0m\u001b[0;34m]\u001b[0m\u001b[0;34m\u001b[0m\u001b[0;34m\u001b[0m\u001b[0m\n\u001b[0m\u001b[1;32m   1744\u001b[0m         \u001b[0;32mfor\u001b[0m \u001b[0mline\u001b[0m \u001b[0;32min\u001b[0m \u001b[0mlines\u001b[0m\u001b[0;34m:\u001b[0m\u001b[0;34m\u001b[0m\u001b[0;34m\u001b[0m\u001b[0m\n\u001b[1;32m   1745\u001b[0m             \u001b[0mself\u001b[0m\u001b[0;34m.\u001b[0m\u001b[0madd_line\u001b[0m\u001b[0;34m(\u001b[0m\u001b[0mline\u001b[0m\u001b[0;34m)\u001b[0m\u001b[0;34m\u001b[0m\u001b[0;34m\u001b[0m\u001b[0m\n",
            "\u001b[0;32m~/anaconda3/envs/gpu2/lib/python3.6/site-packages/matplotlib/axes/_base.py\u001b[0m in \u001b[0;36m__call__\u001b[0;34m(self, data, *args, **kwargs)\u001b[0m\n\u001b[1;32m    271\u001b[0m                 \u001b[0mthis\u001b[0m \u001b[0;34m+=\u001b[0m \u001b[0margs\u001b[0m\u001b[0;34m[\u001b[0m\u001b[0;36m0\u001b[0m\u001b[0;34m]\u001b[0m\u001b[0;34m,\u001b[0m\u001b[0;34m\u001b[0m\u001b[0;34m\u001b[0m\u001b[0m\n\u001b[1;32m    272\u001b[0m                 \u001b[0margs\u001b[0m \u001b[0;34m=\u001b[0m \u001b[0margs\u001b[0m\u001b[0;34m[\u001b[0m\u001b[0;36m1\u001b[0m\u001b[0;34m:\u001b[0m\u001b[0;34m]\u001b[0m\u001b[0;34m\u001b[0m\u001b[0;34m\u001b[0m\u001b[0m\n\u001b[0;32m--> 273\u001b[0;31m             \u001b[0;32myield\u001b[0m \u001b[0;32mfrom\u001b[0m \u001b[0mself\u001b[0m\u001b[0;34m.\u001b[0m\u001b[0m_plot_args\u001b[0m\u001b[0;34m(\u001b[0m\u001b[0mthis\u001b[0m\u001b[0;34m,\u001b[0m \u001b[0mkwargs\u001b[0m\u001b[0;34m)\u001b[0m\u001b[0;34m\u001b[0m\u001b[0;34m\u001b[0m\u001b[0m\n\u001b[0m\u001b[1;32m    274\u001b[0m \u001b[0;34m\u001b[0m\u001b[0m\n\u001b[1;32m    275\u001b[0m     \u001b[0;32mdef\u001b[0m \u001b[0mget_next_color\u001b[0m\u001b[0;34m(\u001b[0m\u001b[0mself\u001b[0m\u001b[0;34m)\u001b[0m\u001b[0;34m:\u001b[0m\u001b[0;34m\u001b[0m\u001b[0;34m\u001b[0m\u001b[0m\n",
            "\u001b[0;32m~/anaconda3/envs/gpu2/lib/python3.6/site-packages/matplotlib/axes/_base.py\u001b[0m in \u001b[0;36m_plot_args\u001b[0;34m(self, tup, kwargs)\u001b[0m\n\u001b[1;32m    397\u001b[0m \u001b[0;34m\u001b[0m\u001b[0m\n\u001b[1;32m    398\u001b[0m         \u001b[0;32mif\u001b[0m \u001b[0mx\u001b[0m\u001b[0;34m.\u001b[0m\u001b[0mshape\u001b[0m\u001b[0;34m[\u001b[0m\u001b[0;36m0\u001b[0m\u001b[0;34m]\u001b[0m \u001b[0;34m!=\u001b[0m \u001b[0my\u001b[0m\u001b[0;34m.\u001b[0m\u001b[0mshape\u001b[0m\u001b[0;34m[\u001b[0m\u001b[0;36m0\u001b[0m\u001b[0;34m]\u001b[0m\u001b[0;34m:\u001b[0m\u001b[0;34m\u001b[0m\u001b[0;34m\u001b[0m\u001b[0m\n\u001b[0;32m--> 399\u001b[0;31m             raise ValueError(f\"x and y must have same first dimension, but \"\n\u001b[0m\u001b[1;32m    400\u001b[0m                              f\"have shapes {x.shape} and {y.shape}\")\n\u001b[1;32m    401\u001b[0m         \u001b[0;32mif\u001b[0m \u001b[0mx\u001b[0m\u001b[0;34m.\u001b[0m\u001b[0mndim\u001b[0m \u001b[0;34m>\u001b[0m \u001b[0;36m2\u001b[0m \u001b[0;32mor\u001b[0m \u001b[0my\u001b[0m\u001b[0;34m.\u001b[0m\u001b[0mndim\u001b[0m \u001b[0;34m>\u001b[0m \u001b[0;36m2\u001b[0m\u001b[0;34m:\u001b[0m\u001b[0;34m\u001b[0m\u001b[0;34m\u001b[0m\u001b[0m\n",
            "\u001b[0;31mValueError\u001b[0m: x and y must have same first dimension, but have shapes (20,) and (5,)"
          ]
        },
        {
          "data": {
            "image/png": "[encoded data removed]",
            "text/plain": [
              "<Figure size 432x288 with 1 Axes>"
            ]
          },
          "metadata": {
            "needs_background": "light"
          },
          "output_type": "display_data"
        }
      ],
      "source": [
        "train_acc = history.history['accuracy']\n",
        "val_acc = history.history['val_accuracy']\n",
        "\n",
        "import matplotlib.pyplot as plt\n",
        "\n",
        "plt.plot(np.arange(1,21,1), train_acc, color='orange', label='Training accuracy')\n",
        "plt.plot(np.arange(1,21,1), val_acc, color='green', linestyle=':', lw=3)\n",
        "plt.xlabel('Epochs')\n",
        "plt.ylabel('Accuracy')\n",
        "plt.legend()\n",
        ";"
      ]
    },
    {
      "cell_type": "code",
      "execution_count": null,
      "id": "f8beb75a",
      "metadata": {
        "id": "f8beb75a",
        "outputId": "4d3bfa4c-cf11-433f-daa0-ddc892fc6c2a"
      },
      "outputs": [
        {
          "name": "stdout",
          "output_type": "stream",
          "text": [
            "Found 4350 files belonging to 8 classes.\n"
          ]
        }
      ],
      "source": [
        "images = pathlib.Path('/content/drive/MyDrive/Kaggle/Tests/TestA')\n",
        "test_data = image_dataset_from_directory(images,\n",
        "                                        subset=None,\n",
        "                                         seed=123,\n",
        "                                         image_size=(360,360))"
      ]
    },
    {
      "cell_type": "code",
      "execution_count": null,
      "id": "d86d63a1",
      "metadata": {
        "id": "d86d63a1"
      },
      "outputs": [],
      "source": [
        "test_data_norm = test_data.map(normalizer)"
      ]
    },
    {
      "cell_type": "code",
      "execution_count": null,
      "id": "26c95203",
      "metadata": {
        "id": "26c95203"
      },
      "outputs": [],
      "source": [
        "y_pred = model.predict(test_data_norm)"
      ]
    },
    {
      "cell_type": "code",
      "execution_count": null,
      "id": "039663aa",
      "metadata": {
        "id": "039663aa"
      },
      "outputs": [],
      "source": [
        "y_true = np.concatenate([y for x,y in test_data_norm])"
      ]
    },
    {
      "cell_type": "code",
      "execution_count": null,
      "id": "7a73ad46",
      "metadata": {
        "id": "7a73ad46"
      },
      "outputs": [],
      "source": [
        "y_pred_class = y_pred.argmax(axis=1)"
      ]
    },
    {
      "cell_type": "code",
      "execution_count": null,
      "id": "059f249c",
      "metadata": {
        "id": "059f249c",
        "outputId": "490756a0-448c-4d9d-bace-caa8a6f34e52"
      },
      "outputs": [
        {
          "ename": "NameError",
          "evalue": "name 'pd' is not defined",
          "output_type": "error",
          "traceback": [
            "\u001b[0;31m---------------------------------------------------------------------------\u001b[0m",
            "\u001b[0;31mNameError\u001b[0m                                 Traceback (most recent call last)",
            "\u001b[0;32m<ipython-input-18-31d16240691a>\u001b[0m in \u001b[0;36m<module>\u001b[0;34m\u001b[0m\n\u001b[0;32m----> 1\u001b[0;31m \u001b[0mpd\u001b[0m\u001b[0;34m.\u001b[0m\u001b[0mcrosstab\u001b[0m\u001b[0;34m(\u001b[0m\u001b[0my_true\u001b[0m\u001b[0;34m,\u001b[0m \u001b[0my_pred_class\u001b[0m\u001b[0;34m)\u001b[0m\u001b[0;34m\u001b[0m\u001b[0;34m\u001b[0m\u001b[0m\n\u001b[0m",
            "\u001b[0;31mNameError\u001b[0m: name 'pd' is not defined"
          ]
        }
      ],
      "source": [
        "pd.crosstab(y_true, y_pred_class)"
      ]
    },
    {
      "cell_type": "code",
      "execution_count": null,
      "id": "2432bd16",
      "metadata": {
        "id": "2432bd16"
      },
      "outputs": [],
      "source": [
        "from sklearn.metrics import classification_report"
      ]
    },
    {
      "cell_type": "code",
      "execution_count": null,
      "id": "c13c350b",
      "metadata": {
        "id": "c13c350b",
        "outputId": "7b63d106-76ae-4852-fa4f-475f167c66cf"
      },
      "outputs": [
        {
          "name": "stdout",
          "output_type": "stream",
          "text": [
            "              precision    recall  f1-score   support\n",
            "\n",
            "           0       0.00      0.00      0.00        89\n",
            "           1       0.08      0.89      0.14       322\n",
            "           2       0.00      0.00      0.00         4\n",
            "           3       0.14      0.00      0.00      1034\n",
            "           4       0.10      0.04      0.06       234\n",
            "           5       1.00      0.00      0.00      2660\n",
            "           6       0.00      0.00      0.00         4\n",
            "           7       0.00      0.00      0.00         3\n",
            "\n",
            "    accuracy                           0.07      4350\n",
            "   macro avg       0.16      0.12      0.02      4350\n",
            "weighted avg       0.66      0.07      0.02      4350\n",
            "\n"
          ]
        }
      ],
      "source": [
        "print(classification_report(y_true, y_pred_class))"
      ]
    },
    {
      "cell_type": "code",
      "execution_count": null,
      "id": "0760173a",
      "metadata": {
        "id": "0760173a",
        "outputId": "948e7a2e-1950-4dc3-ef74-b509c4c38491"
      },
      "outputs": [
        {
          "data": {
            "image/png": "[encoded data removed]",
            "text/plain": [
              "<Figure size 720x720 with 2 Axes>"
            ]
          },
          "metadata": {
            "needs_background": "light"
          },
          "output_type": "display_data"
        }
      ],
      "source": [
        "from sklearn.metrics import confusion_matrix\n",
        "import itertools\n",
        "import matplotlib.pyplot as plt\n",
        "%matplotlib inline\n",
        "\n",
        "cnf_matrix = confusion_matrix(y_true, y_pred_class)\n",
        "\n",
        "classes = train_data.class_names\n",
        "\n",
        "plt.figure(figsize=(10,10))\n",
        "\n",
        "plt.imshow(cnf_matrix, interpolation='nearest',cmap='Blues')\n",
        "plt.title(\"Confusion matrix df70\",fontsize=20)\n",
        "plt.colorbar()\n",
        "tick_marks = np.arange(len(classes))\n",
        "plt.xticks(tick_marks, classes, rotation =90,fontsize=15)\n",
        "plt.yticks(tick_marks, classes,fontsize=15)\n",
        "\n",
        "for i, j in itertools.product(range(cnf_matrix.shape[0]), range(cnf_matrix.shape[1])):\n",
        "    plt.text(j, i, cnf_matrix[i, j],\n",
        "             horizontalalignment = \"center\",\n",
        "             color = \"white\" if cnf_matrix[i, j] > ( cnf_matrix.max() / 2) else \"black\",\n",
        "            fontsize=15)\n",
        "\n",
        "plt.ylabel('True labels',fontsize=20)\n",
        "plt.xlabel('Predicts labels',fontsize=20)\n",
        "plt.show()"
      ]
    },
    {
      "cell_type": "code",
      "execution_count": null,
      "id": "265793d6",
      "metadata": {
        "id": "265793d6"
      },
      "outputs": [],
      "source": []
    }
  ],
  "metadata": {
    "kernelspec": {
      "display_name": "Python 3 (ipykernel)",
      "language": "python",
      "name": "python3"
    },
    "language_info": {
      "codemirror_mode": {
        "name": "ipython",
        "version": 3
      },
      "file_extension": ".py",
      "mimetype": "text/x-python",
      "name": "python",
      "nbconvert_exporter": "python",
      "pygments_lexer": "ipython3",
      "version": "3.10.6"
    },
    "toc": {
      "base_numbering": 1,
      "nav_menu": {},
      "number_sections": true,
      "sideBar": true,
      "skip_h1_title": false,
      "title_cell": "Table of Contents",
      "title_sidebar": "Contents",
      "toc_cell": false,
      "toc_position": {},
      "toc_section_display": true,
      "toc_window_display": false
    },
    "colab": {
      "provenance": []
    }
  },
  "nbformat": 4,
  "nbformat_minor": 5
}