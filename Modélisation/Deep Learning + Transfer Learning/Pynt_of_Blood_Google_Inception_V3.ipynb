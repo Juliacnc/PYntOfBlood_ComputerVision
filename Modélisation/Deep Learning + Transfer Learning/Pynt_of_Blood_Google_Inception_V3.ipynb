{
 "cells": [
  {
   "cell_type": "code",
   "execution_count": 3,
   "id": "3f9ff3c8",
   "metadata": {},
   "outputs": [],
   "source": [
    "import numpy as np\n",
    "import pandas as pd\n",
    "import matplotlib.pyplot as plt\n",
    "%matplotlib inline\n",
    "\n",
    "import pathlib\n",
    "\n",
    "\n",
    "import tensorflow as tf\n",
    "from tensorflow import keras\n",
    "from tensorflow.keras import layers\n",
    "from tensorflow.keras import Sequential\n",
    "from tensorflow.keras.layers import Conv2D, MaxPooling2D, Flatten, Dropout, Dense, LeakyReLU, GlobalAveragePooling2D\n",
    "from tensorflow.keras.preprocessing import image_dataset_from_directory\n",
    "\n",
    "from tensorflow.keras.applications.inception_v3 import InceptionV3"
   ]
  },
  {
   "cell_type": "code",
   "execution_count": 2,
   "id": "79108340",
   "metadata": {},
   "outputs": [],
   "source": [
    "images = pathlib.Path('dataset_normal')"
   ]
  },
  {
   "cell_type": "code",
   "execution_count": 4,
   "id": "4b6eec87",
   "metadata": {},
   "outputs": [
    {
     "name": "stdout",
     "output_type": "stream",
     "text": [
      "Found 17092 files belonging to 8 classes.\n",
      "Using 13674 files for training.\n"
     ]
    }
   ],
   "source": [
    "train_data = image_dataset_from_directory(images,\n",
    "                                          validation_split=0.2,\n",
    "                                          subset='training',\n",
    "                                         seed=123,\n",
    "                                         image_size=(360,360))"
   ]
  },
  {
   "cell_type": "code",
   "execution_count": 5,
   "id": "fa24c3ab",
   "metadata": {},
   "outputs": [
    {
     "name": "stdout",
     "output_type": "stream",
     "text": [
      "Found 17092 files belonging to 8 classes.\n",
      "Using 3418 files for validation.\n"
     ]
    }
   ],
   "source": [
    "val_data= image_dataset_from_directory(images,\n",
    "                                          validation_split=0.2,\n",
    "                                          subset='validation',\n",
    "                                         seed=123,\n",
    "                                         image_size=(360,360))"
   ]
  },
  {
   "cell_type": "code",
   "execution_count": 6,
   "id": "1c80002d",
   "metadata": {},
   "outputs": [
    {
     "name": "stdout",
     "output_type": "stream",
     "text": [
      "(32, 360, 360, 3)\n",
      "(32,)\n",
      "['basophil', 'eosinophil', 'erythroblast', 'ig', 'lymphocyte', 'monocyte', 'neutrophil', 'platelet']\n"
     ]
    }
   ],
   "source": [
    "for image, labels in train_data:\n",
    "    print(image.shape)\n",
    "    print(labels.shape)\n",
    "    break\n",
    "    \n",
    "print(train_data.class_names)"
   ]
  },
  {
   "cell_type": "markdown",
   "id": "8d83c817",
   "metadata": {},
   "source": [
    "## Modèle freeze"
   ]
  },
  {
   "cell_type": "code",
   "execution_count": 8,
   "id": "9418014e",
   "metadata": {},
   "outputs": [
    {
     "name": "stdout",
     "output_type": "stream",
     "text": [
      "Downloading data from https://storage.googleapis.com/tensorflow/keras-applications/inception_v3/inception_v3_weights_tf_dim_ordering_tf_kernels_notop.h5\n",
      "87916544/87910968 [==============================] - 3s 0us/step\n",
      "87924736/87910968 [==============================] - 3s 0us/step\n"
     ]
    }
   ],
   "source": [
    "n_class = 8\n",
    "base_model = InceptionV3(weights='imagenet', include_top=False)\n",
    "for layer in base_model.layers:\n",
    "    layer.trainable = False    \n",
    "\n",
    "model = Sequential()\n",
    "model.add(base_model)\n",
    "model.add(GlobalAveragePooling2D())\n",
    "model.add(Dense(units=1024, activation='relu'))\n",
    "model.add(Dropout(rate=0.2))\n",
    "model.add(Dense(units=512, activation='relu'))\n",
    "model.add(Dropout(rate=0.2))\n",
    "model.add(Dense(units=n_class+1, activation='softmax'))\n",
    "\n",
    "model.compile(loss='sparse_categorical_crossentropy', optimizer='adam', metrics=['acc'])"
   ]
  },
  {
   "cell_type": "code",
   "execution_count": 9,
   "id": "6374f11f",
   "metadata": {},
   "outputs": [
    {
     "name": "stdout",
     "output_type": "stream",
     "text": [
      "Model: \"sequential\"\n",
      "_________________________________________________________________\n",
      "Layer (type)                 Output Shape              Param #   \n",
      "=================================================================\n",
      "inception_v3 (Functional)    (None, None, None, 2048)  21802784  \n",
      "_________________________________________________________________\n",
      "global_average_pooling2d (Gl (None, 2048)              0         \n",
      "_________________________________________________________________\n",
      "dense (Dense)                (None, 1024)              2098176   \n",
      "_________________________________________________________________\n",
      "dropout (Dropout)            (None, 1024)              0         \n",
      "_________________________________________________________________\n",
      "dense_1 (Dense)              (None, 512)               524800    \n",
      "_________________________________________________________________\n",
      "dropout_1 (Dropout)          (None, 512)               0         \n",
      "_________________________________________________________________\n",
      "dense_2 (Dense)              (None, 9)                 4617      \n",
      "=================================================================\n",
      "Total params: 24,430,377\n",
      "Trainable params: 2,627,593\n",
      "Non-trainable params: 21,802,784\n",
      "_________________________________________________________________\n"
     ]
    }
   ],
   "source": [
    "model.summary()"
   ]
  },
  {
   "cell_type": "code",
   "execution_count": 10,
   "id": "f08139c7",
   "metadata": {},
   "outputs": [
    {
     "name": "stdout",
     "output_type": "stream",
     "text": [
      "Epoch 1/5\n",
      "428/428 [==============================] - 577s 1s/step - loss: 3.3764 - acc: 0.3900 - val_loss: 1.2055 - val_acc: 0.5155\n",
      "Epoch 2/5\n",
      "428/428 [==============================] - 571s 1s/step - loss: 1.3785 - acc: 0.4505 - val_loss: 1.2133 - val_acc: 0.5512\n",
      "Epoch 3/5\n",
      "428/428 [==============================] - 573s 1s/step - loss: 1.3917 - acc: 0.4481 - val_loss: 1.2594 - val_acc: 0.5222\n",
      "Epoch 4/5\n",
      "428/428 [==============================] - 572s 1s/step - loss: 1.3689 - acc: 0.4751 - val_loss: 1.2429 - val_acc: 0.5559\n",
      "Epoch 5/5\n",
      "428/428 [==============================] - 571s 1s/step - loss: 1.3676 - acc: 0.4843 - val_loss: 1.2049 - val_acc: 0.5846\n"
     ]
    }
   ],
   "source": [
    "history = model.fit(train_data, \n",
    "                    validation_data=val_data, \n",
    "                    epochs=5)"
   ]
  },
  {
   "cell_type": "code",
   "execution_count": 11,
   "id": "e485092d",
   "metadata": {},
   "outputs": [
    {
     "name": "stdout",
     "output_type": "stream",
     "text": [
      "Found 4350 files belonging to 8 classes.\n"
     ]
    }
   ],
   "source": [
    "images = pathlib.Path('TestA')\n",
    "test_data = image_dataset_from_directory(images,\n",
    "                                         seed=123,\n",
    "                                        subset=None,\n",
    "                                         image_size=(360,360))"
   ]
  },
  {
   "cell_type": "code",
   "execution_count": 12,
   "id": "8d6eb92a",
   "metadata": {},
   "outputs": [
    {
     "name": "stdout",
     "output_type": "stream",
     "text": [
      "136/136 [==============================] - 145s 1s/step - loss: 2.9367 - acc: 0.0522\n"
     ]
    },
    {
     "data": {
      "text/plain": [
       "[2.936724901199341, 0.052183907479047775]"
      ]
     },
     "execution_count": 12,
     "metadata": {},
     "output_type": "execute_result"
    }
   ],
   "source": [
    "model.evaluate(test_data)"
   ]
  },
  {
   "cell_type": "markdown",
   "id": "1a67a7ee",
   "metadata": {},
   "source": [
    "## Modèle unfreeze sur 4 couches"
   ]
  },
  {
   "cell_type": "code",
   "execution_count": 13,
   "id": "3c3259e9",
   "metadata": {},
   "outputs": [],
   "source": [
    "for layer in base_model.layers[-4:]: #defreeze 4 couches\n",
    "    layer.trainable = True"
   ]
  },
  {
   "cell_type": "code",
   "execution_count": null,
   "id": "aa7bf45e",
   "metadata": {},
   "outputs": [
    {
     "name": "stdout",
     "output_type": "stream",
     "text": [
      "Epoch 1/10\n",
      "428/428 [==============================] - 573s 1s/step - loss: 1.3437 - acc: 0.4981 - val_loss: 1.1408 - val_acc: 0.6164\n",
      "Epoch 2/10\n",
      "428/428 [==============================] - 575s 1s/step - loss: 1.3116 - acc: 0.5205 - val_loss: 1.1042 - val_acc: 0.6118\n",
      "Epoch 3/10\n",
      "428/428 [==============================] - 574s 1s/step - loss: 1.2926 - acc: 0.5303 - val_loss: 1.1204 - val_acc: 0.6047\n",
      "Epoch 4/10\n",
      "147/428 [=========>....................] - ETA: 5:01 - loss: 1.3090 - acc: 0.5172"
     ]
    }
   ],
   "source": [
    "history_defreeze4 = model.fit(train_data, \n",
    "                    validation_data=val_data, \n",
    "                    epochs=10)"
   ]
  },
  {
   "cell_type": "code",
   "execution_count": null,
   "id": "db02bb00",
   "metadata": {},
   "outputs": [],
   "source": [
    "model.evaluate(test_data)"
   ]
  },
  {
   "cell_type": "code",
   "execution_count": null,
   "id": "b35c8509",
   "metadata": {},
   "outputs": [],
   "source": []
  }
 ],
 "metadata": {
  "kernelspec": {
   "display_name": "Python 3 (ipykernel)",
   "language": "python",
   "name": "python3"
  },
  "language_info": {
   "codemirror_mode": {
    "name": "ipython",
    "version": 3
   },
   "file_extension": ".py",
   "mimetype": "text/x-python",
   "name": "python",
   "nbconvert_exporter": "python",
   "pygments_lexer": "ipython3",
   "version": "3.10.6"
  },
  "toc": {
   "base_numbering": 1,
   "nav_menu": {},
   "number_sections": true,
   "sideBar": true,
   "skip_h1_title": false,
   "title_cell": "Table of Contents",
   "title_sidebar": "Contents",
   "toc_cell": false,
   "toc_position": {},
   "toc_section_display": true,
   "toc_window_display": false
  }
 },
 "nbformat": 4,
 "nbformat_minor": 5
}
