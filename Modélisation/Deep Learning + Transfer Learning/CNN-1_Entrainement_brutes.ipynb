{
 "cells": [
  {
   "cell_type": "code",
   "execution_count": 1,
   "metadata": {},
   "outputs": [],
   "source": [
    "import numpy as np\n",
    "import pandas as pd\n",
    "import matplotlib.pyplot as plt\n",
    "from matplotlib import image\n",
    "%matplotlib inline\n",
    "\n",
    "import glob\n",
    "import pathlib\n",
    "\n",
    "import tensorflow as tf\n",
    "import tensorflow as keras \n",
    "from keras.preprocessing.image import ImageDataGenerator\n",
    "from tensorflow.keras.layers import Conv2D, MaxPooling2D, Flatten, Dropout, Dense"
   ]
  },
  {
   "cell_type": "code",
   "execution_count": 2,
   "metadata": {},
   "outputs": [],
   "source": [
    "img = pathlib.Path('D:\\Work - Data\\Projects\\Red Blood Cells\\Images\\Mendeley_Data_Barcelona')"
   ]
  },
  {
   "cell_type": "code",
   "execution_count": 3,
   "metadata": {},
   "outputs": [],
   "source": [
    "from tensorflow.keras.preprocessing.image import ImageDataGenerator\n",
    "\n",
    "train_datagen = ImageDataGenerator(\n",
    "    rescale=1./255,\n",
    "    shear_range=0.2,\n",
    "    zoom_range=0.2,\n",
    "    horizontal_flip=True\n",
    ")"
   ]
  },
  {
   "cell_type": "code",
   "execution_count": 4,
   "metadata": {},
   "outputs": [
    {
     "name": "stdout",
     "output_type": "stream",
     "text": [
      "Found 15793 images belonging to 8 classes.\n",
      "Found 15793 images belonging to 8 classes.\n",
      "Found 0 images belonging to 0 classes.\n",
      "Model: \"sequential\"\n",
      "_________________________________________________________________\n",
      " Layer (type)                Output Shape              Param #   \n",
      "=================================================================\n",
      " conv2d (Conv2D)             (None, 358, 358, 32)      896       \n",
      "                                                                 \n",
      " max_pooling2d (MaxPooling2D  (None, 179, 179, 32)     0         \n",
      " )                                                               \n",
      "                                                                 \n",
      " conv2d_1 (Conv2D)           (None, 177, 177, 64)      18496     \n",
      "                                                                 \n",
      " max_pooling2d_1 (MaxPooling  (None, 88, 88, 64)       0         \n",
      " 2D)                                                             \n",
      "                                                                 \n",
      " conv2d_2 (Conv2D)           (None, 86, 86, 128)       73856     \n",
      "                                                                 \n",
      " max_pooling2d_2 (MaxPooling  (None, 43, 43, 128)      0         \n",
      " 2D)                                                             \n",
      "                                                                 \n",
      " flatten (Flatten)           (None, 236672)            0         \n",
      "                                                                 \n",
      " dense (Dense)               (None, 128)               30294144  \n",
      "                                                                 \n",
      " dropout (Dropout)           (None, 128)               0         \n",
      "                                                                 \n",
      " dense_1 (Dense)             (None, 8)                 1032      \n",
      "                                                                 \n",
      "=================================================================\n",
      "Total params: 30,388,424\n",
      "Trainable params: 30,388,424\n",
      "Non-trainable params: 0\n",
      "_________________________________________________________________\n"
     ]
    }
   ],
   "source": [
    "from tensorflow.keras.preprocessing.image import ImageDataGenerator\n",
    "from tensorflow.keras.models import Sequential\n",
    "from tensorflow.keras.layers import Conv2D, MaxPooling2D, Flatten, Dense, Dropout\n",
    "from tensorflow.keras.optimizers import Adam\n",
    "from tensorflow.keras.callbacks import EarlyStopping, ModelCheckpoint, TensorBoard\n",
    "from sklearn.metrics import confusion_matrix\n",
    "import numpy as np\n",
    "\n",
    "# set up the data generators\n",
    "train_dir = 'D:\\Work - Data\\Projects\\Red Blood Cells\\Images\\Mendeley_Data_Barcelona'\n",
    "validation_dir = 'D:\\Work - Data\\Projects\\Red Blood Cells\\Images\\Mendeley_Data_Barcelona'\n",
    "test_dir = 'D:\\Work - Data\\Projects\\Red Blood Cells\\Images\\Tests'\n",
    "img_height = 360\n",
    "img_width = 360\n",
    "batch_size = 32\n",
    "\n",
    "train_datagen = ImageDataGenerator(rescale=1./255)\n",
    "test_datagen = ImageDataGenerator(rescale=1./255)\n",
    "\n",
    "train_data = train_datagen.flow_from_directory(train_dir, target_size=(img_height, img_width), batch_size=batch_size, class_mode='categorical')\n",
    "validation_data = test_datagen.flow_from_directory(validation_dir, target_size=(img_height, img_width), batch_size=batch_size, class_mode='categorical')\n",
    "test_data = test_datagen.flow_from_directory(test_dir, target_size=(img_height, img_width), batch_size=batch_size, class_mode='categorical')\n",
    "\n",
    "# create the model\n",
    "model = Sequential([\n",
    "    Conv2D(32, (3, 3), activation='relu', input_shape=(img_height, img_width, 3)),\n",
    "    MaxPooling2D((2, 2)),\n",
    "    Conv2D(64, (3, 3), activation='relu'),\n",
    "    MaxPooling2D((2, 2)),\n",
    "    Conv2D(128, (3, 3), activation='relu'),\n",
    "    MaxPooling2D((2, 2)),\n",
    "    Flatten(),\n",
    "    Dense(128, activation='relu'),\n",
    "    Dropout(0.5),\n",
    "    Dense(8, activation='softmax')\n",
    "])\n",
    "\n",
    "# compile the model\n",
    "model.compile(optimizer=Adam(learning_rate=0.001),\n",
    "              loss='categorical_crossentropy',\n",
    "              metrics=['accuracy'])\n",
    "\n",
    "model.summary()\n"
   ]
  },
  {
   "cell_type": "code",
   "execution_count": 7,
   "metadata": {},
   "outputs": [
    {
     "name": "stdout",
     "output_type": "stream",
     "text": [
      "Epoch 1/15\n",
      "494/494 [==============================] - 1349s 3s/step - loss: 1.2678 - accuracy: 0.5147 - val_loss: 0.7556 - val_accuracy: 0.7222\n",
      "Epoch 2/15\n",
      "494/494 [==============================] - 2520s 5s/step - loss: 0.7554 - accuracy: 0.7189 - val_loss: 0.4526 - val_accuracy: 0.8338\n",
      "Epoch 3/15\n",
      "494/494 [==============================] - 5077s 10s/step - loss: 0.5551 - accuracy: 0.7918 - val_loss: 0.2972 - val_accuracy: 0.8825\n",
      "Epoch 4/15\n",
      "494/494 [==============================] - 3655s 7s/step - loss: 0.4352 - accuracy: 0.8397 - val_loss: 0.2970 - val_accuracy: 0.8817\n",
      "Epoch 5/15\n",
      "494/494 [==============================] - 2660s 5s/step - loss: 0.3886 - accuracy: 0.8595 - val_loss: 0.1882 - val_accuracy: 0.9404\n",
      "Epoch 6/15\n",
      "494/494 [==============================] - 2832s 6s/step - loss: 0.3411 - accuracy: 0.8797 - val_loss: 0.1405 - val_accuracy: 0.9537\n",
      "Epoch 7/15\n",
      "494/494 [==============================] - 2905s 6s/step - loss: 0.2867 - accuracy: 0.8997 - val_loss: 0.1785 - val_accuracy: 0.9296\n",
      "Epoch 8/15\n",
      "494/494 [==============================] - 2884s 6s/step - loss: 0.2556 - accuracy: 0.9096 - val_loss: 0.1584 - val_accuracy: 0.9507\n",
      "Epoch 9/15\n",
      "494/494 [==============================] - 3302s 7s/step - loss: 0.2246 - accuracy: 0.9195 - val_loss: 0.0645 - val_accuracy: 0.9795\n",
      "Epoch 10/15\n",
      "494/494 [==============================] - 3681s 7s/step - loss: 0.1930 - accuracy: 0.9312 - val_loss: 0.0734 - val_accuracy: 0.9752\n",
      "Epoch 11/15\n",
      "494/494 [==============================] - 3346s 7s/step - loss: 0.1848 - accuracy: 0.9345 - val_loss: 0.0721 - val_accuracy: 0.9740\n",
      "Epoch 12/15\n",
      "494/494 [==============================] - 2836s 6s/step - loss: 0.1621 - accuracy: 0.9443 - val_loss: 0.0451 - val_accuracy: 0.9869\n",
      "Epoch 13/15\n",
      "494/494 [==============================] - 2670s 5s/step - loss: 0.1405 - accuracy: 0.9502 - val_loss: 0.0511 - val_accuracy: 0.9803\n",
      "Epoch 14/15\n",
      "494/494 [==============================] - 2510s 5s/step - loss: 0.1496 - accuracy: 0.9495 - val_loss: 0.0319 - val_accuracy: 0.9895\n",
      "Epoch 15/15\n",
      "494/494 [==============================] - 2502s 5s/step - loss: 0.1339 - accuracy: 0.9545 - val_loss: 0.0232 - val_accuracy: 0.9940\n"
     ]
    },
    {
     "data": {
      "image/png": "[encoded data removed]",
      "text/plain": [
       "<Figure size 640x480 with 1 Axes>"
      ]
     },
     "metadata": {},
     "output_type": "display_data"
    }
   ],
   "source": [
    "\n",
    "# define callbacks\n",
    "early_stop = EarlyStopping(monitor='val_loss', patience=5, verbose=1, restore_best_weights=True)\n",
    "model_checkpoint = ModelCheckpoint(filepath='model_{epoch:02d}.h5', monitor='val_loss', save_best_only=False)\n",
    "tensorboard = TensorBoard(log_dir='./logs')\n",
    "\n",
    "# train the model\n",
    "history = model.fit(train_data,\n",
    "                    epochs=15,\n",
    "                    validation_data=validation_data,\n",
    "                    callbacks=[early_stop, model_checkpoint, tensorboard])\n",
    "\n",
    "# plot the loss and accuracy curves\n",
    "plt.plot(history.history['loss'], label='Training Loss')\n",
    "plt.plot(history.history['val_loss'], label='Validation Loss')\n",
    "plt.plot(history.history['accuracy'], label='Training Accuracy')\n",
    "plt.plot(history.history['val_accuracy'], label='Validation Accuracy')\n",
    "plt.legend()\n",
    "plt.show()"
   ]
  },
  {
   "attachments": {},
   "cell_type": "markdown",
   "metadata": {},
   "source": [
    "## interruption au milieu du 13 ème epoch, meilleure accuracy \n",
    "Found 15793 images belonging to 8 classes.\n",
    "Found 15793 images belonging to 8 classes.\n",
    "Found 0 images belonging to 0 classes.\n",
    "Epoch 1/15\n",
    "494/494 [==============================] - 1299s 3s/step - loss: 1.3185 - accuracy: 0.5223 - val_loss: 0.7608 - val_accuracy: 0.7080\n",
    "Epoch 2/15\n",
    "494/494 [==============================] - 1306s 3s/step - loss: 0.6906 - accuracy: 0.7429 - val_loss: 0.3962 - val_accuracy: 0.8629\n",
    "Epoch 3/15\n",
    "494/494 [==============================] - 1254s 3s/step - loss: 0.5111 - accuracy: 0.8191 - val_loss: 0.3053 - val_accuracy: 0.8894\n",
    "Epoch 4/15\n",
    "494/494 [==============================] - 1267s 3s/step - loss: 0.4062 - accuracy: 0.8534 - val_loss: 0.1993 - val_accuracy: 0.9336\n",
    "Epoch 5/15\n",
    "494/494 [==============================] - 1262s 3s/step - loss: 0.3497 - accuracy: 0.8749 - val_loss: 0.1904 - val_accuracy: 0.9329\n",
    "Epoch 6/15\n",
    "494/494 [==============================] - 1222s 2s/step - loss: 0.3044 - accuracy: 0.8945 - val_loss: 0.1318 - val_accuracy: 0.9573\n",
    "Epoch 7/15\n",
    "494/494 [==============================] - 1217s 2s/step - loss: 0.2735 - accuracy: 0.9038 - val_loss: 0.1235 - val_accuracy: 0.9592\n",
    "Epoch 8/15\n",
    "494/494 [==============================] - 1206s 2s/step - loss: 0.2332 - accuracy: 0.9196 - val_loss: 0.0943 - val_accuracy: 0.9639\n",
    "Epoch 9/15\n",
    "494/494 [==============================] - 1199s 2s/step - loss: 0.2222 - accuracy: 0.9208 - val_loss: 0.0765 - val_accuracy: 0.9764\n",
    "Epoch 10/15\n",
    "494/494 [==============================] - 1134s 2s/step - loss: 0.1770 - accuracy: 0.9382 - val_loss: 0.0623 - val_accuracy: 0.9806\n",
    "Epoch 11/15\n",
    "494/494 [==============================] - 1124s 2s/step - loss: 0.1795 - accuracy: 0.9348 - val_loss: 0.0824 - val_accuracy: 0.9719\n",
    "Epoch 12/15\n",
    "494/494 [==============================] - 1122s 2s/step - loss: 0.1501 - accuracy: 0.9478 - val_loss: 0.0444 - val_accuracy: 0.9847\n",
    "Epoch 13/15\n",
    "281/494 [================>.............] - ETA: 6:21 - loss: 0.1391 - accuracy: 0.9502"
   ]
  },
  {
   "cell_type": "code",
   "execution_count": 8,
   "metadata": {},
   "outputs": [
    {
     "data": {
      "image/png": "[encoded data removed]",
      "text/plain": [
       "<Figure size 640x480 with 1 Axes>"
      ]
     },
     "metadata": {},
     "output_type": "display_data"
    },
    {
     "data": {
      "image/png": "[encoded data removed]",
      "text/plain": [
       "<Figure size 640x480 with 1 Axes>"
      ]
     },
     "metadata": {},
     "output_type": "display_data"
    }
   ],
   "source": [
    "plt.subplot(1,2,1)\n",
    "plt.plot(history.history['loss'])\n",
    "plt.plot(history.history['val_loss'])\n",
    "plt.title('Model loss by epoch')\n",
    "plt.ylabel('loss')\n",
    "plt.xlabel('epoch')\n",
    "plt.legend(['train_data', 'validation_data'], loc='right')\n",
    "plt.show();\n",
    "\n",
    "plt.subplot(1,2,2)\n",
    "plt.plot(history.history['accuracy'])\n",
    "plt.plot(history.history['val_accuracy'])\n",
    "plt.title('Model accuracy by epoch')\n",
    "plt.ylabel('accuracy')\n",
    "plt.xlabel('epoch')\n",
    "plt.legend(['train_data', 'validation_data'], loc='right')\n",
    "plt.show();"
   ]
  },
  {
   "cell_type": "code",
   "execution_count": 10,
   "metadata": {},
   "outputs": [
    {
     "data": {
      "image/png": "[encoded data removed]",
      "text/plain": [
       "<Figure size 640x480 with 1 Axes>"
      ]
     },
     "metadata": {},
     "output_type": "display_data"
    },
    {
     "data": {
      "image/png": "[encoded data removed]",
      "text/plain": [
       "<Figure size 640x480 with 1 Axes>"
      ]
     },
     "metadata": {},
     "output_type": "display_data"
    }
   ],
   "source": [
    "# retrieve metrics and plot accuracy and loss vs number of epochs\n",
    "\n",
    "import matplotlib.pyplot as plt\n",
    "\n",
    "acc = history.history['accuracy']\n",
    "val_acc = history.history['val_accuracy']\n",
    "loss = history.history['loss']\n",
    "val_loss = history.history['val_loss']\n",
    "epochs = range(len(acc))\n",
    "\n",
    "# plot accuracy\n",
    "plt.plot(epochs, acc, 'b', label='Training accuracy')\n",
    "plt.plot(epochs, val_acc, 'r', label='Validation accuracy')\n",
    "plt.title('Training and validation accuracy')\n",
    "plt.legend()\n",
    "plt.savefig('accuracy.png')\n",
    "plt.show()\n",
    "\n",
    "# plot loss\n",
    "plt.plot(epochs, loss, 'b', label='Training loss')\n",
    "plt.plot(epochs, val_loss, 'r', label='Validation loss')\n",
    "plt.title('Training and validation loss')\n",
    "plt.legend()\n",
    "plt.savefig('loss.png')\n",
    "plt.show()\n"
   ]
  },
  {
   "cell_type": "code",
   "execution_count": 17,
   "metadata": {},
   "outputs": [
    {
     "name": "stdout",
     "output_type": "stream",
     "text": [
      "Collecting tqdm\n",
      "  Downloading tqdm-4.65.0-py3-none-any.whl (77 kB)\n",
      "                                              0.0/77.1 kB ? eta -:--:--\n",
      "     -----                                    10.2/77.1 kB ? eta -:--:--\n",
      "     --------------------                   41.0/77.1 kB 196.9 kB/s eta 0:00:01\n",
      "     -------------------------------------- 77.1/77.1 kB 329.3 kB/s eta 0:00:00\n",
      "Requirement already satisfied: colorama in d:\\app_data\\anaconda\\envs\\python20\\lib\\site-packages (from tqdm) (0.4.6)\n",
      "Installing collected packages: tqdm\n",
      "Successfully installed tqdm-4.65.0\n",
      "Note: you may need to restart the kernel to use updated packages.\n"
     ]
    }
   ],
   "source": [
    "pip install tqdm"
   ]
  },
  {
   "cell_type": "code",
   "execution_count": 39,
   "metadata": {},
   "outputs": [
    {
     "name": "stderr",
     "output_type": "stream",
     "text": [
      "100%|██████████| 5/5 [00:00<?, ?it/s]\n",
      "100%|██████████| 7/7 [00:00<?, ?it/s]\n",
      "100%|██████████| 4/4 [00:00<?, ?it/s]\n",
      "100%|██████████| 5/5 [00:00<?, ?it/s]\n",
      "100%|██████████| 15/15 [00:00<?, ?it/s]\n",
      "100%|██████████| 8/8 [00:00<00:00, 7998.67it/s]\n",
      "100%|██████████| 14/14 [00:00<?, ?it/s]\n",
      "100%|██████████| 3/3 [00:00<?, ?it/s]\n"
     ]
    },
    {
     "name": "stdout",
     "output_type": "stream",
     "text": [
      "Found 61 images belonging to 8 classes.\n"
     ]
    }
   ],
   "source": [
    "import os\n",
    "from PIL import Image\n",
    "from tqdm import tqdm\n",
    "\n",
    "# Set up directories and parameters\n",
    "data_dir = 'D:\\Work - Data\\Projects\\Red Blood Cells\\Images\\Tests'\n",
    "img_height = 360\n",
    "img_width = 360\n",
    "\n",
    "# Resize images in data_dir\n",
    "for class_dir in os.listdir(data_dir):\n",
    "    full_class_dir = os.path.join(data_dir, class_dir)\n",
    "    if os.path.isdir(full_class_dir):\n",
    "        for img_file in tqdm(os.listdir(full_class_dir)):\n",
    "            if img_file.startswith('resized_'):\n",
    "                continue\n",
    "            try:\n",
    "                img_path = os.path.join(full_class_dir, img_file)\n",
    "                img = Image.open(img_path)\n",
    "                img = img.resize((img_height, img_width))\n",
    "                new_file_name = \"resized_\" + img_file\n",
    "                new_img_path = os.path.join(full_class_dir, new_file_name)\n",
    "                img.save(new_img_path)\n",
    "            except (OSError, IOError):\n",
    "                print(f\"Unsupported file: {img_file}\")\n",
    "\n",
    "# Set up test data generator\n",
    "test_datagen = ImageDataGenerator(rescale=1./255)\n",
    "\n",
    "## Load resized test images into generator\n",
    "#test_data = test_datagen.flow_from_directory(\n",
    "#    data_dir,\n",
    "#    target_size=(img_height, img_width),\n",
    "#    batch_size=batch_size,\n",
    "#    class_mode='categorical',\n",
    "#    shuffle=False,\n",
    "#    subset='none',\n",
    "#)\n",
    "\n",
    "test_data = test_datagen.flow_from_directory(\n",
    "    directory=test_dir,\n",
    "    target_size=(img_height, img_width),\n",
    "    batch_size=batch_size,\n",
    "    class_mode='categorical',\n",
    "    shuffle=False)"
   ]
  },
  {
   "cell_type": "code",
   "execution_count": 32,
   "metadata": {},
   "outputs": [
    {
     "name": "stdout",
     "output_type": "stream",
     "text": [
      "2/2 [==============================] - 3s 1s/step\n"
     ]
    }
   ],
   "source": [
    "from tensorflow import keras\n",
    "\n",
    "# Load the saved model\n",
    "model = keras.models.load_model('D:\\Work - Data\\Projects/Red Blood Cells\\model_15.h5')\n",
    "\n",
    "new_data=test_data\n",
    "\n",
    "# Use the model for prediction\n",
    "predictions = model.predict(new_data)"
   ]
  },
  {
   "cell_type": "code",
   "execution_count": 33,
   "metadata": {},
   "outputs": [
    {
     "name": "stdout",
     "output_type": "stream",
     "text": [
      "2/2 [==============================] - 3s 993ms/step - loss: 32.8229 - accuracy: 0.1639\n",
      "Test accuracy: 0.16393442451953888\n"
     ]
    }
   ],
   "source": [
    "\n",
    "# evaluate the model on the test set\n",
    "test_loss, test_acc = model.evaluate(test_data)\n",
    "print(\"Test accuracy:\", test_acc)\n"
   ]
  },
  {
   "cell_type": "code",
   "execution_count": 40,
   "metadata": {},
   "outputs": [
    {
     "name": "stdout",
     "output_type": "stream",
     "text": [
      "['Basophil', 'Eosinophil', 'Erythroblast', 'Monocyte', 'ig', 'lymphocyte', 'neutrophil', 'platelet']\n"
     ]
    }
   ],
   "source": [
    "class_names = list(test_data.class_indices.keys())\n",
    "print(class_names)"
   ]
  },
  {
   "cell_type": "code",
   "execution_count": 45,
   "metadata": {},
   "outputs": [
    {
     "name": "stdout",
     "output_type": "stream",
     "text": [
      "(None, 360, 360, 3)\n"
     ]
    }
   ],
   "source": [
    "print(model.input_shape)"
   ]
  },
  {
   "cell_type": "code",
   "execution_count": 50,
   "metadata": {},
   "outputs": [
    {
     "name": "stdout",
     "output_type": "stream",
     "text": [
      "(32, 360, 360, 3)\n"
     ]
    },
    {
     "data": {
      "text/plain": [
       "2"
      ]
     },
     "execution_count": 50,
     "metadata": {},
     "output_type": "execute_result"
    }
   ],
   "source": [
    "print(new_data[0][0].shape)\n",
    "len(new_data)"
   ]
  },
  {
   "cell_type": "code",
   "execution_count": 51,
   "metadata": {},
   "outputs": [
    {
     "name": "stdout",
     "output_type": "stream",
     "text": [
      "(32, 360, 360, 3)\n"
     ]
    },
    {
     "data": {
      "text/plain": [
       "2"
      ]
     },
     "execution_count": 51,
     "metadata": {},
     "output_type": "execute_result"
    }
   ],
   "source": [
    "print(test_data[0][0].shape)\n",
    "len(test_data)"
   ]
  },
  {
   "attachments": {},
   "cell_type": "markdown",
   "metadata": {},
   "source": [
    "Test sur un échantillon de 31 images piochées sur internet\n",
    "https://www.histology-world.com/photoalbum/displayimage.php?album=65&pid=3479#top_display_media\n",
    "https://www.poja-collection-microscopic-anatomy.com/11---poja-l705.html\n"
   ]
  },
  {
   "cell_type": "code",
   "execution_count": 73,
   "metadata": {},
   "outputs": [],
   "source": [
    "model_path='D:\\Work - Data\\Projects/Red Blood Cells\\model_15.h5'\n",
    "test_dir= 'D:\\Work - Data\\Projects\\Red Blood Cells\\Images\\Tests\\Random_pick'\n",
    "data_dir = 'D:\\Work - Data\\Projects\\Red Blood Cells\\Images\\Tests'"
   ]
  },
  {
   "cell_type": "code",
   "execution_count": 75,
   "metadata": {},
   "outputs": [
    {
     "name": "stderr",
     "output_type": "stream",
     "text": [
      "100%|██████████| 8/8 [00:00<00:00, 4001.24it/s]\n"
     ]
    },
    {
     "name": "stdout",
     "output_type": "stream",
     "text": [
      "Unsupported file: Basophil\n",
      "Unsupported file: Eosinophil\n",
      "Unsupported file: Erythroblast\n",
      "Unsupported file: ig\n",
      "Unsupported file: lymphocyte\n",
      "Unsupported file: Monocyte\n",
      "Unsupported file: neutrophil\n",
      "Unsupported file: platelet\n"
     ]
    },
    {
     "name": "stderr",
     "output_type": "stream",
     "text": [
      "100%|██████████| 8/8 [00:00<00:00, 4001.24it/s]\n"
     ]
    },
    {
     "name": "stdout",
     "output_type": "stream",
     "text": [
      "Unsupported file: Basophil\n",
      "Unsupported file: Eosinophil\n",
      "Unsupported file: Erythroblast\n",
      "Unsupported file: ig\n",
      "Unsupported file: Lymphocyte\n",
      "Unsupported file: Monocyte\n",
      "Unsupported file: Neutrophil\n",
      "Unsupported file: platelet\n",
      "Found 61 images belonging to 8 classes.\n"
     ]
    }
   ],
   "source": [
    "import os\n",
    "from PIL import Image\n",
    "from tqdm import tqdm\n",
    "\n",
    "# Set up directories and parameters\n",
    "\n",
    "img_height = 360\n",
    "img_width = 360\n",
    "\n",
    "# Resize images in data_dir\n",
    "for class_dir in os.listdir(data_dir):\n",
    "    full_class_dir = os.path.join(data_dir, class_dir)\n",
    "    if os.path.isdir(full_class_dir):\n",
    "        for img_file in tqdm(os.listdir(full_class_dir)):\n",
    "            if img_file.startswith('resized_'):\n",
    "                # delete files with more than one occurrence of 'resized_' as prefix\n",
    "                if img_file.count('resized_') > 1:\n",
    "                    os.remove(os.path.join(full_class_dir, img_file))\n",
    "                continue\n",
    "            try:\n",
    "                img_path = os.path.join(full_class_dir, img_file)\n",
    "                img = Image.open(img_path)\n",
    "                img = img.resize((img_height, img_width))\n",
    "                new_file_name = \"resized_\" + img_file\n",
    "                new_img_path = os.path.join(full_class_dir, new_file_name)\n",
    "                img.save(new_img_path)\n",
    "                # delete original file after resizing\n",
    "                os.remove(img_path)\n",
    "            except (OSError, IOError):\n",
    "                print(f\"Unsupported file: {img_file}\")\n",
    "\n",
    "# Set up test data generator\n",
    "test_datagen = ImageDataGenerator(rescale=1./255)\n",
    "\n",
    "test_data = test_datagen.flow_from_directory(\n",
    "    directory=test_dir,\n",
    "    target_size=(img_height, img_width),\n",
    "    batch_size=batch_size,\n",
    "    class_mode='categorical',\n",
    "    shuffle=False)"
   ]
  },
  {
   "cell_type": "code",
   "execution_count": 76,
   "metadata": {},
   "outputs": [
    {
     "name": "stdout",
     "output_type": "stream",
     "text": [
      "Found 61 images belonging to 8 classes.\n",
      "2/2 [==============================] - 3s 976ms/step - loss: 32.8229 - accuracy: 0.1639\n",
      "Test loss: 32.8229\n",
      "Test accuracy: 0.1639\n"
     ]
    }
   ],
   "source": [
    "# Load the saved model\n",
    "model = keras.models.load_model(model_path)\n",
    "\n",
    "test_datagen = ImageDataGenerator(rescale=1./255)\n",
    "test_data = test_datagen.flow_from_directory(test_dir,\n",
    "                                             target_size=(360, 360),\n",
    "                                             batch_size=32,\n",
    "                                             class_mode='categorical')\n",
    "\n",
    "loss, accuracy = model.evaluate(test_data)\n",
    "print(f\"Test loss: {loss:.4f}\")\n",
    "print(f\"Test accuracy: {accuracy:.4f}\")"
   ]
  },
  {
   "cell_type": "code",
   "execution_count": 77,
   "metadata": {},
   "outputs": [
    {
     "name": "stdout",
     "output_type": "stream",
     "text": [
      "Found 61 images belonging to 8 classes.\n",
      "2/2 [==============================] - 3s 990ms/step\n",
      "              precision    recall  f1-score   support\n",
      "\n",
      "    Basophil       0.00      0.00      0.00         5\n",
      "  Eosinophil       0.25      0.14      0.18         7\n",
      "Erythroblast       0.00      0.00      0.00         4\n",
      "    Monocyte       0.06      0.12      0.08         8\n",
      "          ig       0.00      0.00      0.00         5\n",
      "  lymphocyte       0.00      0.00      0.00        15\n",
      "  neutrophil       0.11      0.07      0.09        14\n",
      "    platelet       0.00      0.00      0.00         3\n",
      "\n",
      "    accuracy                           0.05        61\n",
      "   macro avg       0.05      0.04      0.04        61\n",
      "weighted avg       0.06      0.05      0.05        61\n",
      "\n"
     ]
    }
   ],
   "source": [
    "from sklearn.metrics import classification_report\n",
    "\n",
    "# load the model and test data\n",
    "model = keras.models.load_model(model_path)\n",
    "test_data = ImageDataGenerator().flow_from_directory(test_dir, target_size=(360,360), batch_size=32)\n",
    "\n",
    "# predict the labels for the test data\n",
    "y_pred = model.predict(test_data)\n",
    "\n",
    "# convert the predicted probabilities to class labels\n",
    "y_pred = np.argmax(y_pred, axis=1)\n",
    "\n",
    "# get the true labels\n",
    "y_true = test_data.classes\n",
    "\n",
    "# get the class names\n",
    "class_names = list(test_data.class_indices.keys())\n",
    "\n",
    "# get the classification report\n",
    "report = classification_report(y_true, y_pred, target_names=class_names)\n",
    "\n",
    "# print the report\n",
    "print(report)\n",
    "\n",
    "#This will output a classification report with the accuracy, precision, recall, and F1 score for each class.\n"
   ]
  },
  {
   "attachments": {},
   "cell_type": "markdown",
   "metadata": {},
   "source": [
    "## Test sur échantillons correspondant au test A du Raabin-WBC dataset (5 classes, hors platelet, ig, erythroblast) https://www.ncbi.nlm.nih.gov/pmc/articles/PMC8782871/"
   ]
  },
  {
   "cell_type": "code",
   "execution_count": 81,
   "metadata": {},
   "outputs": [],
   "source": [
    "model_path='D:\\Work - Data\\Projects/Red Blood Cells\\model_15.h5'\n",
    "test_dir= 'D:\\Work - Data\\Projects\\Red Blood Cells\\Images\\Tests\\TestA'\n",
    "data_dir = 'D:\\Work - Data\\Projects\\Red Blood Cells\\Images\\Tests\\TestA'"
   ]
  },
  {
   "cell_type": "code",
   "execution_count": 82,
   "metadata": {},
   "outputs": [
    {
     "name": "stderr",
     "output_type": "stream",
     "text": [
      "100%|██████████| 89/89 [00:00<?, ?it/s]\n",
      "100%|██████████| 322/322 [00:00<?, ?it/s]\n",
      "100%|██████████| 4/4 [00:00<?, ?it/s]\n",
      "100%|██████████| 4/4 [00:00<?, ?it/s]\n",
      "100%|██████████| 1034/1034 [00:00<00:00, 1034815.16it/s]\n",
      "100%|██████████| 234/234 [00:00<?, ?it/s]\n",
      "100%|██████████| 2660/2660 [00:00<00:00, 887718.70it/s]\n",
      "100%|██████████| 3/3 [00:00<?, ?it/s]\n"
     ]
    }
   ],
   "source": [
    "import os\n",
    "from PIL import Image\n",
    "from tqdm import tqdm\n",
    "\n",
    "# Set up directories and parameters\n",
    "\n",
    "img_height = 360\n",
    "img_width = 360\n",
    "\n",
    "# Resize images in data_dir\n",
    "for class_dir in os.listdir(data_dir):\n",
    "    full_class_dir = os.path.join(data_dir, class_dir)\n",
    "    if os.path.isdir(full_class_dir):\n",
    "        for img_file in tqdm(os.listdir(full_class_dir)):\n",
    "            if img_file.startswith('resized_'):\n",
    "                # delete files with more than one occurrence of 'resized_' as prefix\n",
    "                if img_file.count('resized_') > 1:\n",
    "                    os.remove(os.path.join(full_class_dir, img_file))\n",
    "                continue\n",
    "            try:\n",
    "                img_path = os.path.join(full_class_dir, img_file)\n",
    "                img = Image.open(img_path)\n",
    "                img = img.resize((img_height, img_width))\n",
    "                new_file_name = \"resized_\" + img_file\n",
    "                new_img_path = os.path.join(full_class_dir, new_file_name)\n",
    "                img.save(new_img_path)\n",
    "                # delete original file after resizing\n",
    "                os.remove(img_path)\n",
    "            except (OSError, IOError):\n",
    "                print(f\"Unsupported file: {img_file}\")\n",
    "\n",
    "# Set up test data generator\n",
    "test_datagen = ImageDataGenerator(rescale=1./255)\n"
   ]
  },
  {
   "cell_type": "code",
   "execution_count": 83,
   "metadata": {},
   "outputs": [
    {
     "name": "stdout",
     "output_type": "stream",
     "text": [
      "Found 4350 images belonging to 8 classes.\n",
      "136/136 [==============================] - 154s 1s/step - loss: 38.8984 - accuracy: 0.0839\n",
      "Test loss: 38.8984\n",
      "Test accuracy: 0.0839\n"
     ]
    }
   ],
   "source": [
    "# Load the saved model\n",
    "model = keras.models.load_model(model_path)\n",
    "\n",
    "test_datagen = ImageDataGenerator(rescale=1./255)\n",
    "test_data_1 = test_datagen.flow_from_directory(test_dir,\n",
    "                                             target_size=(360, 360),\n",
    "                                             batch_size=32,\n",
    "                                             class_mode='categorical')\n",
    "\n",
    "loss, accuracy = model.evaluate(test_data_1)\n",
    "print(f\"Test loss: {loss:.4f}\")\n",
    "print(f\"Test accuracy: {accuracy:.4f}\")"
   ]
  },
  {
   "cell_type": "code",
   "execution_count": 84,
   "metadata": {},
   "outputs": [
    {
     "name": "stdout",
     "output_type": "stream",
     "text": [
      "136/136 [==============================] - 157s 1s/step\n",
      "              precision    recall  f1-score   support\n",
      "\n",
      "    Basophil       0.01      0.01      0.01        89\n",
      "  Eosinophil       0.08      0.86      0.14       322\n",
      "Erythroblast       0.00      0.00      0.00         4\n",
      "  Lymphocyte       0.43      0.02      0.03      1034\n",
      "    Monocyte       0.06      0.04      0.05       234\n",
      "  Neutrophil       0.71      0.00      0.00      2660\n",
      "          ig       0.00      0.00      0.00         4\n",
      "    platelet       0.00      0.00      0.00         3\n",
      "\n",
      "    accuracy                           0.07      4350\n",
      "   macro avg       0.16      0.12      0.03      4350\n",
      "weighted avg       0.55      0.07      0.02      4350\n",
      "\n"
     ]
    },
    {
     "name": "stderr",
     "output_type": "stream",
     "text": [
      "d:\\App_Data\\Anaconda\\envs\\Python20\\Lib\\site-packages\\sklearn\\metrics\\_classification.py:1344: UndefinedMetricWarning: Precision and F-score are ill-defined and being set to 0.0 in labels with no predicted samples. Use `zero_division` parameter to control this behavior.\n",
      "  _warn_prf(average, modifier, msg_start, len(result))\n",
      "d:\\App_Data\\Anaconda\\envs\\Python20\\Lib\\site-packages\\sklearn\\metrics\\_classification.py:1344: UndefinedMetricWarning: Precision and F-score are ill-defined and being set to 0.0 in labels with no predicted samples. Use `zero_division` parameter to control this behavior.\n",
      "  _warn_prf(average, modifier, msg_start, len(result))\n",
      "d:\\App_Data\\Anaconda\\envs\\Python20\\Lib\\site-packages\\sklearn\\metrics\\_classification.py:1344: UndefinedMetricWarning: Precision and F-score are ill-defined and being set to 0.0 in labels with no predicted samples. Use `zero_division` parameter to control this behavior.\n",
      "  _warn_prf(average, modifier, msg_start, len(result))\n"
     ]
    }
   ],
   "source": [
    "from sklearn.metrics import classification_report\n",
    "\n",
    "# load the model and test data\n",
    "#model = keras.models.load_model(model_path)\n",
    "#test_data_1 = ImageDataGenerator().flow_from_directory(test_dir, target_size=(360,360), batch_size=32)\n",
    "\n",
    "# predict the labels for the test data\n",
    "y_pred = model.predict(test_data_1)\n",
    "\n",
    "# convert the predicted probabilities to class labels\n",
    "y_pred = np.argmax(y_pred, axis=1)\n",
    "\n",
    "# get the true labels\n",
    "y_true = test_data_1.classes\n",
    "\n",
    "# get the class names\n",
    "class_names = list(test_data_1.class_indices.keys())\n",
    "\n",
    "# get the classification report\n",
    "report = classification_report(y_true, y_pred, target_names=class_names)\n",
    "\n",
    "# print the report\n",
    "print(report)\n",
    "\n",
    "#This will output a classification report with the accuracy, precision, recall, and F1 score for each class.\n"
   ]
  },
  {
   "cell_type": "code",
   "execution_count": null,
   "metadata": {},
   "outputs": [],
   "source": []
  },
  {
   "attachments": {},
   "cell_type": "markdown",
   "metadata": {},
   "source": [
    "for memory\n",
    "136/136 [==============================] - 141s 1s/step\n",
    "              precision    recall  f1-score   support\n",
    "\n",
    "    Basophil       0.01      0.01      0.01        89\n",
    "  Eosinophil       0.08      0.86      0.14       322\n",
    "Erythroblast       0.00      0.00      0.00         4\n",
    "  Lymphocyte       0.33      0.01      0.03      1034\n",
    "    Monocyte       0.07      0.05      0.06       234\n",
    "  Neutrophil       0.71      0.00      0.00      2660\n",
    "          ig       0.00      0.00      0.00         4\n",
    "    platelet       0.00      0.00      0.00         3\n",
    "\n",
    "    accuracy                           0.07      4350\n",
    "   macro avg       0.15      0.12      0.03      4350\n",
    "weighted avg       0.53      0.07      0.02      4350"
   ]
  },
  {
   "cell_type": "code",
   "execution_count": 86,
   "metadata": {},
   "outputs": [],
   "source": [
    "model_path='D:\\Work - Data\\Projects/Red Blood Cells\\model_15.h5'\n",
    "test_dir= 'D:\\Work - Data\\Projects\\Red Blood Cells\\Images\\Tests\\Mendeley_extract'\n",
    "data_dir = 'D:\\Work - Data\\Projects\\Red Blood Cells\\Images\\Tests\\Mendeley_extract'"
   ]
  },
  {
   "cell_type": "code",
   "execution_count": 87,
   "metadata": {},
   "outputs": [
    {
     "name": "stderr",
     "output_type": "stream",
     "text": [
      "100%|██████████| 24/24 [00:01<00:00, 17.85it/s]\n",
      "100%|██████████| 11/11 [00:00<00:00, 22.08it/s]\n",
      "100%|██████████| 48/48 [00:02<00:00, 17.45it/s]\n",
      "100%|██████████| 40/40 [00:02<00:00, 17.13it/s]\n",
      "100%|██████████| 40/40 [00:02<00:00, 18.81it/s]\n",
      "100%|██████████| 40/40 [00:02<00:00, 18.72it/s]\n",
      "100%|██████████| 40/40 [00:01<00:00, 21.70it/s]\n",
      "100%|██████████| 48/48 [00:01<00:00, 29.65it/s]\n"
     ]
    }
   ],
   "source": [
    "import os\n",
    "from PIL import Image\n",
    "from tqdm import tqdm\n",
    "\n",
    "# Set up directories and parameters\n",
    "\n",
    "img_height = 360\n",
    "img_width = 360\n",
    "\n",
    "# Resize images in data_dir\n",
    "for class_dir in os.listdir(data_dir):\n",
    "    full_class_dir = os.path.join(data_dir, class_dir)\n",
    "    if os.path.isdir(full_class_dir):\n",
    "        for img_file in tqdm(os.listdir(full_class_dir)):\n",
    "            if img_file.startswith('resized_'):\n",
    "                # delete files with more than one occurrence of 'resized_' as prefix\n",
    "                if img_file.count('resized_') > 1:\n",
    "                    os.remove(os.path.join(full_class_dir, img_file))\n",
    "                continue\n",
    "            try:\n",
    "                img_path = os.path.join(full_class_dir, img_file)\n",
    "                img = Image.open(img_path)\n",
    "                img = img.resize((img_height, img_width))\n",
    "                new_file_name = \"resized_\" + img_file\n",
    "                new_img_path = os.path.join(full_class_dir, new_file_name)\n",
    "                img.save(new_img_path)\n",
    "                # delete original file after resizing\n",
    "                os.remove(img_path)\n",
    "            except (OSError, IOError):\n",
    "                print(f\"Unsupported file: {img_file}\")\n",
    "\n",
    "# Set up test data generator\n",
    "test_datagen = ImageDataGenerator(rescale=1./255)\n"
   ]
  },
  {
   "cell_type": "code",
   "execution_count": 88,
   "metadata": {},
   "outputs": [
    {
     "name": "stdout",
     "output_type": "stream",
     "text": [
      "Found 291 images belonging to 8 classes.\n",
      "10/10 [==============================] - 16s 2s/step - loss: 0.0289 - accuracy: 0.9931\n",
      "Test loss: 0.0289\n",
      "Test accuracy: 0.9931\n"
     ]
    }
   ],
   "source": [
    "# Load the saved model\n",
    "model = keras.models.load_model(model_path)\n",
    "\n",
    "test_datagen = ImageDataGenerator(rescale=1./255)\n",
    "test_data_2 = test_datagen.flow_from_directory(test_dir,\n",
    "                                             target_size=(360, 360),\n",
    "                                             batch_size=32,\n",
    "                                             class_mode='categorical')\n",
    "\n",
    "loss, accuracy = model.evaluate(test_data_2)\n",
    "print(f\"Test loss: {loss:.4f}\")\n",
    "print(f\"Test accuracy: {accuracy:.4f}\")"
   ]
  },
  {
   "cell_type": "code",
   "execution_count": 89,
   "metadata": {},
   "outputs": [
    {
     "name": "stdout",
     "output_type": "stream",
     "text": [
      "10/10 [==============================] - 11s 1s/step\n",
      "              precision    recall  f1-score   support\n",
      "\n",
      "    basophil       0.00      0.00      0.00        24\n",
      "  eosinophil       0.00      0.00      0.00        11\n",
      "erythroblast       0.21      0.21      0.21        48\n",
      "          ig       0.19      0.20      0.20        40\n",
      "  lymphocyte       0.03      0.03      0.03        40\n",
      "    monocyte       0.13      0.12      0.13        40\n",
      "  neutrophil       0.18      0.17      0.18        40\n",
      "    platelet       0.15      0.15      0.15        48\n",
      "\n",
      "    accuracy                           0.13       291\n",
      "   macro avg       0.11      0.11      0.11       291\n",
      "weighted avg       0.13      0.13      0.13       291\n",
      "\n"
     ]
    }
   ],
   "source": [
    "from sklearn.metrics import classification_report\n",
    "\n",
    "# load the model and test data\n",
    "#model = keras.models.load_model(model_path)\n",
    "#test_data_1 = ImageDataGenerator().flow_from_directory(test_dir, target_size=(360,360), batch_size=32)\n",
    "\n",
    "# predict the labels for the test data\n",
    "y_pred = model.predict(test_data_2)\n",
    "\n",
    "# convert the predicted probabilities to class labels\n",
    "y_pred = np.argmax(y_pred, axis=1)\n",
    "\n",
    "# get the true labels\n",
    "y_true = test_data_2.classes\n",
    "\n",
    "# get the class names\n",
    "class_names = list(test_data_2.class_indices.keys())\n",
    "\n",
    "# get the classification report\n",
    "report = classification_report(y_true, y_pred, target_names=class_names)\n",
    "\n",
    "# print the report\n",
    "print(report)\n",
    "\n",
    "#This will output a classification report with the accuracy, precision, recall, and F1 score for each class.\n"
   ]
  },
  {
   "cell_type": "code",
   "execution_count": null,
   "metadata": {},
   "outputs": [],
   "source": []
  },
  {
   "cell_type": "code",
   "execution_count": 85,
   "metadata": {},
   "outputs": [
    {
     "name": "stdout",
     "output_type": "stream",
     "text": [
      "1/1 [==============================] - 0s 415ms/step\n",
      "This image most likely belongs to Eosinophil with a 27.97 percent confidence.\n"
     ]
    }
   ],
   "source": [
    "test_url = \"http://lecannabiculteur.free.fr/SITES/UNIV%20CATHO%20LOUVAIN/istogene/safe/images/08910140.jpg\"\n",
    "test_path = tf.keras.utils.get_file('08910140', origin=test_url)\n",
    "\n",
    "img = tf.keras.utils.load_img(\n",
    "    test_path, target_size=(img_height, img_width)\n",
    ")\n",
    "img_array = tf.keras.utils.img_to_array(img)\n",
    "img_array = tf.expand_dims(img_array, 0) # Create a batch\n",
    "\n",
    "predictions = model.predict(img_array)\n",
    "score = tf.nn.softmax(predictions[0])\n",
    "\n",
    "print(\n",
    "    \"This image most likely belongs to {} with a {:.2f} percent confidence.\"\n",
    "    .format(class_names[np.argmax(score)], 100 * np.max(score)))"
   ]
  }
 ],
 "metadata": {
  "kernelspec": {
   "display_name": "Python20",
   "language": "python",
   "name": "python3"
  },
  "language_info": {
   "codemirror_mode": {
    "name": "ipython",
    "version": 3
   },
   "file_extension": ".py",
   "mimetype": "text/x-python",
   "name": "python",
   "nbconvert_exporter": "python",
   "pygments_lexer": "ipython3",
   "version": "3.11.3"
  },
  "orig_nbformat": 4
 },
 "nbformat": 4,
 "nbformat_minor": 2
}
